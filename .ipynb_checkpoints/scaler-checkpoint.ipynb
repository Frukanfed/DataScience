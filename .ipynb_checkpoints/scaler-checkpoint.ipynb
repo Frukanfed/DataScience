{
 "cells": [
  {
   "cell_type": "code",
   "execution_count": null,
   "id": "212b5b5d-ad91-4deb-bf84-ee589bcb416b",
   "metadata": {},
   "outputs": [],
   "source": [
    "df = pd.read_csv('updated_data/rfe_test_data.csv')\n",
    "\n",
    "column = 'SalePrice'\n",
    "\n",
    "# IQR hesaplaması\n",
    "Q1 = df[column].quantile(0.25)\n",
    "Q3 = df[column].quantile(0.75)\n",
    "IQR = Q3 - Q1\n",
    "\n",
    "# Aykırı değerlerin sınırlarını belirleyin\n",
    "lower_bound = Q1 - 1.5 * IQR\n",
    "upper_bound = Q3 + 1.5 * IQR\n",
    "\n",
    "# Aykırı değerleri filtreleyin\n",
    "df_no_outliers = df[(df[column] >= lower_bound) & (df[column] <= upper_bound)]\n",
    "\n",
    "# Filtrelenmiş veri setini kontrol edin\n",
    "print(df_no_outliers.shape)\n",
    "\n",
    "# İsterseniz temizlenmiş veri setini yeni bir CSV dosyasına kaydedebilirsiniz\n",
    "df_no_outliers.to_csv('updated_data/rfe_test_data_filtered.csv', index=False)"
   ]
  }
 ],
 "metadata": {
  "kernelspec": {
   "display_name": "Python 3 (ipykernel)",
   "language": "python",
   "name": "python3"
  },
  "language_info": {
   "codemirror_mode": {
    "name": "ipython",
    "version": 3
   },
   "file_extension": ".py",
   "mimetype": "text/x-python",
   "name": "python",
   "nbconvert_exporter": "python",
   "pygments_lexer": "ipython3",
   "version": "3.11.5"
  }
 },
 "nbformat": 4,
 "nbformat_minor": 5
}
